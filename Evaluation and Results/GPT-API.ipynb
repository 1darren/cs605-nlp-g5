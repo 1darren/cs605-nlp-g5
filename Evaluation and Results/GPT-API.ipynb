{
 "cells": [
  {
   "cell_type": "code",
   "execution_count": null,
   "metadata": {},
   "outputs": [],
   "source": [
    "pip install openai==0.28"
   ]
  },
  {
   "cell_type": "code",
   "execution_count": 13,
   "metadata": {},
   "outputs": [
    {
     "name": "stdout",
     "output_type": "stream",
     "text": [
      "Scores saved to questions_answers_with_scores-4o-1.csv\n"
     ]
    }
   ],
   "source": [
    "import openai\n",
    "import pandas as pd\n",
    "import os\n",
    "import time\n",
    "import re\n",
    "# Set your OpenAI API key here\n",
    "openai.api_key = 'fill in the API(delete here for public sharing of the code)'\n",
    "\n",
    "# Function to evaluate the likelihood that an answer is by Rick\n",
    "def evaluate_answer(question, answer):\n",
    "    prompt = (\n",
    "        f\"Question: {question}\\nAnswer: {answer}\\n\\n\"\n",
    "        \"Evaluate the dialogue based on the following standards from 1 to 25 each, do not give the reason for each score:\\n\"\n",
    "        \"1. Vocabulary: Does the dialogue use language and terms that Rick would typically use?\\n\"\n",
    "        \"2. Creativity: Is the dialogue inventive and original, reflecting Rick's innovative and unconventional approach?\\n\"\n",
    "        \"3. Sentiment: Does the dialogue capture Rick's usual cynical, sarcastic, or nihilistic sentiment?\\n\"\n",
    "        \"4. Character Accuracy: Does the dialogue accurately reflect Rick's personality and behavior?\\n\\n\"\n",
    "        \"Provide a total score out of 100.\"\n",
    "    )\n",
    "    \n",
    "    while True:\n",
    "        try:\n",
    "            # Use the latest API method for creating completions\n",
    "            response = openai.ChatCompletion.create(\n",
    "                model=\"gpt-4o-2024-05-13\",\n",
    "                messages=[\n",
    "                    {\"role\": \"system\", \"content\": \"You are a helpful assistant.\"},\n",
    "                    {\"role\": \"user\", \"content\": prompt}\n",
    "                ],\n",
    "                max_tokens=100\n",
    "            )\n",
    "            result = response['choices'][0]['message']['content'].strip()\n",
    "            return result\n",
    "        except openai.error.RateLimitError:\n",
    "            print(\"Rate limit exceeded. Waiting for 60 seconds before retrying...\")\n",
    "            time.sleep(60)  # Wait for 60 seconds before retrying\n",
    "        except Exception as e:\n",
    "            print(f\"An error occurred: {e}\")\n",
    "            return None\n",
    "\n",
    "# Change directory to where your CSV file is located\n",
    "os.chdir(os.path.expanduser('~/Downloads/Inference'))\n",
    "\n",
    "# Read the combined CSV file\n",
    "file_path = 'combined_answers.csv'  # Replace with your CSV file path\n",
    "df = pd.read_csv(file_path)\n",
    "\n",
    "# Ensure the CSV has the correct columns\n",
    "if 'Question' not in df.columns or not any(col.startswith('Answer_') for col in df.columns):\n",
    "    raise ValueError(\"CSV file must contain 'Question' and 'Answer_' columns.\")\n",
    "\n",
    "# Add columns for scores\n",
    "for col in df.columns:\n",
    "    if col.startswith('Answer_'):\n",
    "        df[f'{col}_Score'] = None\n",
    "        \n",
    "# Evaluate answers in batches of 10 to respect rate limits\n",
    "batch_size = 10\n",
    "for start in range(0, len(df), batch_size):\n",
    "    end = min(start + batch_size, len(df))\n",
    "    batch = df.iloc[start:end]\n",
    "\n",
    "    # Loop through each row in the batch and evaluate each answer\n",
    "    for index, row in batch.iterrows():\n",
    "        question = row['Question']\n",
    "        for col in df.columns:\n",
    "            if col.startswith('Answer_'):\n",
    "                answer = row[col]\n",
    "                if pd.notna(answer):  # Check if the answer is not NaN\n",
    "                    evaluation = evaluate_answer(question, answer)\n",
    "                    score_column = f\"{col}_Score\"\n",
    "                    df.at[index, score_column] = evaluation\n",
    "\n",
    "# Save the results to a new CSV file\n",
    "output_file_path = 'questions_answers_with_scores-4o-1.csv'\n",
    "df.to_csv(output_file_path, index=False, encoding='utf-8')\n",
    "\n",
    "print(f\"Scores saved to {output_file_path}\")"
   ]
  }
 ],
 "metadata": {
  "kernelspec": {
   "display_name": "Python 3",
   "language": "python",
   "name": "python3"
  },
  "language_info": {
   "codemirror_mode": {
    "name": "ipython",
    "version": 3
   },
   "file_extension": ".py",
   "mimetype": "text/x-python",
   "name": "python",
   "nbconvert_exporter": "python",
   "pygments_lexer": "ipython3",
   "version": "3.9.6"
  }
 },
 "nbformat": 4,
 "nbformat_minor": 2
}
